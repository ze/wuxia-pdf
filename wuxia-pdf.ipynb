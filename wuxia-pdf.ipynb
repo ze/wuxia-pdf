{
 "cells": [
  {
   "cell_type": "markdown",
   "metadata": {},
   "source": [
    "# wuxia-pdf\n",
    "\n",
    "wuxia-pdf is a tool that creates a pdf of any novel on [wuxiaworld](http://wuxiaworld.com).\n",
    "\n",
    "My reason for creating this was to easily read my novels in bulk on mobile, in areas where I don't have internet service."
   ]
  },
  {
   "cell_type": "code",
   "execution_count": 1,
   "metadata": {
    "collapsed": true
   },
   "outputs": [],
   "source": [
    "from bs4 import BeautifulSoup, NavigableString\n",
    "import urllib3\n",
    "urllib3.disable_warnings()\n",
    "\n",
    "from IPython.display import IFrame\n",
    "\n",
    "from reportlab.lib.colors import HexColor\n",
    "from reportlab.lib.enums import TA_CENTER\n",
    "from reportlab.lib.units import inch\n",
    "from reportlab.lib.styles import getSampleStyleSheet, ParagraphStyle\n",
    "from reportlab.pdfbase import pdfmetrics\n",
    "from reportlab.pdfbase.ttfonts import TTFont \n",
    "from reportlab.platypus import SimpleDocTemplate, Paragraph, Spacer\n",
    "\n",
    "from PyPDF2 import PdfFileMerger, PdfFileReader\n",
    "import os\n",
    "\n",
    "http = urllib3.PoolManager()\n",
    "\n",
    "def load_chapter(novel, num, pre_index=None):\n",
    "    pre = novel if pre_index is None else pre_index\n",
    "    url = f\"http://www.wuxiaworld.com/{pre}-index/{novel}-chapter-{num}\"\n",
    "    response = http.request(\"GET\", url)\n",
    "    soup = BeautifulSoup(response.data, \"html5lib\").find(\"body\")\n",
    "    \n",
    "    article = soup.find(\"div\", itemprop=\"articleBody\")\n",
    "    if article is None:\n",
    "        return None\n",
    "    \n",
    "    top = True\n",
    "    chapter = {\"body\": \"\", \"title\": None}\n",
    "    chapter[\"novel\"] = novel\n",
    "    chapter[\"number\"] = num\n",
    "    \n",
    "    for p in article.children:\n",
    "        if isinstance(p, NavigableString) or p.find(\"a\"): continue\n",
    "        if p.text is not \"\" and top:\n",
    "            chapter[\"title\"] = p.text\n",
    "            top = False\n",
    "        else:\n",
    "            chapter[\"body\"]+= f\"{p.text}<br/><br/>\"\n",
    "            \n",
    "    if chapter[\"title\"] is None:\n",
    "        return None\n",
    "    \n",
    "    \"\"\"Sometimes a chapter will be inside one <p>, rather than distributed through the div in <p>'s\"\"\"\n",
    "    if len(chapter[\"title\"]) > len(chapter[\"body\"]):\n",
    "        chapter[\"title\"], chapter[\"body\"] = chapter[\"body\"], chapter[\"title\"]\n",
    "        chapter[\"title\"] = chapter[\"body\"].split(\"\\n\")[0]\n",
    "        chapter[\"body\"] = chapter[\"body\"].replace(\"\\n\", \"<br/>\")\n",
    "            \n",
    "    return chapter"
   ]
  },
  {
   "cell_type": "markdown",
   "metadata": {},
   "source": [
    "# PDF Generation\n",
    "\n",
    "Using the reportlab module, you can create readable, customizable chapters."
   ]
  },
  {
   "cell_type": "code",
   "execution_count": 2,
   "metadata": {
    "collapsed": true
   },
   "outputs": [],
   "source": [
    "pdfmetrics.registerFont(TTFont(\"Open Sans\", 'OpenSans-Regular.ttf'))\n",
    "\n",
    "styles = {\"default\": getSampleStyleSheet()[\"Normal\"]}\n",
    "styles[\"default\"].fontName = \"Open Sans\"\n",
    "styles[\"title\"] = ParagraphStyle(\"title\",\n",
    "                                 parent=styles[\"default\"],\n",
    "                                 fontSize=18,\n",
    "                                 alignment=TA_CENTER,\n",
    "                                 textColor=HexColor(0x3970D0))\n",
    "\n",
    "def make_pdf(chapter, ignore):\n",
    "    file_name = f\"{chapter['novel']}_{chapter['number']}.pdf\"\n",
    "    doc = SimpleDocTemplate(file_name,\n",
    "                            rightMargin=inch/2,\n",
    "                            leftMargin=inch/2,\n",
    "                            topMargin=inch/4,\n",
    "                            bottomMargin=inch/2)\n",
    "\n",
    "    flow = []\n",
    "    flow.append(Paragraph(chapter[\"title\"], styles[\"default\"] if ignore else styles[\"title\"]))\n",
    "    if ignore:\n",
    "        flow.append(Spacer(0, -2 * inch / 4))\n",
    "    else:\n",
    "        flow.append(Spacer(0, inch / 4))\n",
    "        \n",
    "    flow.append(Paragraph(chapter[\"body\"], styles[\"default\"]))\n",
    "    \n",
    "    doc.build(flow)\n",
    "    \n",
    "    return open(file_name, \"rb\")"
   ]
  },
  {
   "cell_type": "markdown",
   "metadata": {},
   "source": [
    "# PDF Merging\n",
    "\n",
    "PyPDF2 allows for the merging of multiple PDF files.\n",
    "\n",
    "After a PDF is created, it is merged and promptly deleted"
   ]
  },
  {
   "cell_type": "code",
   "execution_count": 3,
   "metadata": {
    "collapsed": true
   },
   "outputs": [],
   "source": [
    "merger = PdfFileMerger()\n",
    "\n",
    "def group_pdf(novel, start=1, depth=1000, pre=None, ignore=False):\n",
    "    if start < 1 or depth < 1:\n",
    "        raise ValueError(\"Chapters must be greater than 1\")\n",
    "        \n",
    "    dist = 0\n",
    "    for n in range(start, start + depth):\n",
    "        dist = n\n",
    "        \"\"\"Some novels have a index dissimilar to their chapter format\"\"\"\n",
    "        if pre is None:\n",
    "            chap = load_chapter(novel, n)\n",
    "        else:\n",
    "            chap = load_chapter(novel, n, pre_index=pre)\n",
    "            \n",
    "        if chap is None:\n",
    "            break\n",
    "        \n",
    "        pdf = make_pdf(chap, ignore)\n",
    "        merger.append(PdfFileReader(pdf))\n",
    "        \n",
    "        pdf.close()\n",
    "        os.remove(pdf.name)\n",
    "          \n",
    "    out_file = f\"{novel}_{start}-{dist}.pdf\"\n",
    "    merger.write(out_file)\n",
    "    \n",
    "    return open(out_file, \"rb\")"
   ]
  },
  {
   "cell_type": "markdown",
   "metadata": {},
   "source": [
    "Most generated PDF's are perfect, with some having few to no errors.\n",
    "\n",
    "Some chapters will be weird because there will almost always be a chapter with a completely different format thrown in the middle somewhere.\n",
    "\n",
    "Novels that function with a book and chapter in their index will not work for now."
   ]
  }
 ],
 "metadata": {
  "kernelspec": {
   "display_name": "Python 3",
   "language": "python",
   "name": "python3"
  },
  "language_info": {
   "codemirror_mode": {
    "name": "ipython",
    "version": 3
   },
   "file_extension": ".py",
   "mimetype": "text/x-python",
   "name": "python",
   "nbconvert_exporter": "python",
   "pygments_lexer": "ipython3",
   "version": "3.6.1"
  }
 },
 "nbformat": 4,
 "nbformat_minor": 2
}
